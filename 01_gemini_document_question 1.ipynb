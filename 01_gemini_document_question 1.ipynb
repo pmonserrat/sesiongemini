{
 "cells": [
  {
   "cell_type": "code",
   "execution_count": null,
   "metadata": {},
   "outputs": [],
   "source": [
    "# Este bloque instala las bibliotecas necesarias para trabajar con la API de Gemini y con PDFs\n",
    "# Nota: Este comando solo necesita ejecutarse una vez\n",
    "!pip install google-generativeai\n",
    "!pip install pypdf"
   ]
  },
  {
   "cell_type": "code",
   "execution_count": null,
   "metadata": {},
   "outputs": [],
   "source": [
    "#Setup del documento (lánzalo antes de empezar a conversar)\n",
    "import google.generativeai as genai\n",
    "import pypdf\n",
    "import os\n",
    "from IPython.display import display, Markdown"
   ]
  },
  {
   "cell_type": "markdown",
   "metadata": {},
   "source": [
    "## Configuración API Key & Modelo"
   ]
  },
  {
   "cell_type": "code",
   "execution_count": null,
   "metadata": {},
   "outputs": [],
   "source": [
    "# Zona para introducir tu clave API:\n",
    "# ⬇️⬇️⬇️⬇️⬇️⬇️⬇️⬇️⬇️⬇️⬇️⬇️⬇️⬇️\n",
    "API_KEY = \"REEMPLAZA_ESTO_CON_TU_CLAVE_API_REAL\"\n",
    "# ⬆️⬆️⬆️⬆️⬆️⬆️⬆️⬆️⬆️⬆️⬆️⬆️⬆️⬆️\n",
    "\n",
    "# ⬇️⬇️⬇️⬇️⬇️⬇️⬇️⬇️⬇️⬇️⬇️⬇️⬇️⬇️\n",
    "RUTA_ARCHIVO =\"reemplaza-esto-por-la-ruta-de-tu-archivo-pdf\"\n",
    "# ⬆️⬆️⬆️⬆️⬆️⬆️⬆️⬆️⬆️⬆️⬆️⬆️⬆️⬆️\n",
    "\n",
    "genai.configure(api_key=API_KEY)"
   ]
  },
  {
   "cell_type": "markdown",
   "metadata": {},
   "source": [
    "## Funciones de utilidades"
   ]
  },
  {
   "cell_type": "code",
   "execution_count": null,
   "metadata": {},
   "outputs": [],
   "source": [
    "def extraer_texto_pdf(ruta_archivo):\n",
    "    \"\"\"\n",
    "    Extrae todo el texto de un archivo PDF\n",
    "    \n",
    "    Args:\n",
    "        ruta_archivo (str): Ruta al archivo PDF\n",
    "        \n",
    "    Returns:\n",
    "        str: Todo el texto extraído del PDF\n",
    "    \"\"\"\n",
    "    # Verificamos si el archivo existe\n",
    "    if not os.path.exists(ruta_archivo):\n",
    "        return f\"Error: El archivo {ruta_archivo} no existe\"\n",
    "    \n",
    "    try:\n",
    "        # Abrimos el archivo PDF\n",
    "        with open(ruta_archivo, 'rb') as archivo:\n",
    "            # Creamos un lector de PDF\n",
    "            lector = pypdf.PdfReader(archivo)\n",
    "            \n",
    "            # Extraemos el texto de cada página\n",
    "            texto_completo = \"\"\n",
    "            for pagina in lector.pages:\n",
    "                texto_completo += pagina.extract_text() + \"\\n\\n\"\n",
    "            \n",
    "            return texto_completo\n",
    "    except Exception as e:\n",
    "        return f\"Error al procesar el PDF: {str(e)}\""
   ]
  },
  {
   "cell_type": "code",
   "execution_count": null,
   "metadata": {},
   "outputs": [],
   "source": [
    "contexto_inicial = f\"\"\"\n",
    "Eres un asistente experto que ayuda a responder preguntas sobre el siguiente documento:\n",
    "\n",
    "{extraer_texto_pdf(RUTA_ARCHIVO)}\n",
    "\n",
    "Responde solo basándote en la información contenida en este documento.\n",
    "Si la información no está disponible en el documento, indícalo claramente.\n",
    "\"\"\"\n",
    "chat_documento = genai.GenerativeModel('gemini-1.5-pro-latest').start_chat(history=[\n",
    "    {\"role\": \"user\", \"parts\": [contexto_inicial]},\n",
    "    {\"role\": \"model\", \"parts\": [\"He leído el documento. Estoy listo para responder preguntas basadas en su contenido.\"]}\n",
    "])\n",
    "def conversar_sobre_documento(mensaje):\n",
    "    print(f\"\\n📝 Tú: {mensaje}\")\n",
    "    respuesta = chat_documento.send_message(mensaje)\n",
    "    print(f\"\\n🤖 Gemini:\")\n",
    "    display(Markdown(respuesta.text))\n",
    "    return None"
   ]
  },
  {
   "cell_type": "code",
   "execution_count": null,
   "metadata": {},
   "outputs": [],
   "source": [
    "# Preguntamos a Gemini sobre el contenido del documento\n",
    "conversar_sobre_documento(\"Haz un resumen del documento\")\n",
    "# Puedes reemplazar la pregunta por lo que quieras saber del PDF!\n",
    "# También puedes añadir multiples turnos de conversación para obtener más detalles"
   ]
  },
  {
   "cell_type": "code",
   "execution_count": null,
   "metadata": {},
   "outputs": [],
   "source": [
    "conversar_sobre_documento(\"Haz un resumen del documento\")"
   ]
  }
 ],
 "metadata": {
  "kernelspec": {
   "display_name": "Python 3",
   "language": "python",
   "name": "python3"
  },
  "language_info": {
   "codemirror_mode": {
    "name": "ipython",
    "version": 3
   },
   "file_extension": ".py",
   "mimetype": "text/x-python",
   "name": "python",
   "nbconvert_exporter": "python",
   "pygments_lexer": "ipython3",
   "version": "3.13.2"
  }
 },
 "nbformat": 4,
 "nbformat_minor": 2
}
